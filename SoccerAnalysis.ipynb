{
 "cells": [
  {
   "cell_type": "markdown",
   "id": "f4dfb9a4-a94c-4d0d-bafb-c9cd2eaeedc0",
   "metadata": {},
   "source": [
    "<h1>Soccer Analysis</h1>"
   ]
  },
  {
   "cell_type": "markdown",
   "id": "02da9678-9196-480a-be61-b8ad11e1c7be",
   "metadata": {},
   "source": [
    "Run these lines to install the necessary packages and load in the data."
   ]
  },
  {
   "cell_type": "code",
   "execution_count": 1,
   "id": "e7c85b77-ad3c-4d24-8124-32786c0bf996",
   "metadata": {},
   "outputs": [
    {
     "name": "stderr",
     "output_type": "stream",
     "text": [
      "Updating HTML index of packages in '.Library'\n",
      "\n",
      "Making 'packages.html' ...\n",
      " done\n",
      "\n",
      "── \u001b[1mAttaching core tidyverse packages\u001b[22m ──────────────────────── tidyverse 2.0.0 ──\n",
      "\u001b[32m✔\u001b[39m \u001b[34mdplyr    \u001b[39m 1.1.3     \u001b[32m✔\u001b[39m \u001b[34mreadr    \u001b[39m 2.1.4\n",
      "\u001b[32m✔\u001b[39m \u001b[34mforcats  \u001b[39m 1.0.0     \u001b[32m✔\u001b[39m \u001b[34mstringr  \u001b[39m 1.5.0\n",
      "\u001b[32m✔\u001b[39m \u001b[34mggplot2  \u001b[39m 3.4.3     \u001b[32m✔\u001b[39m \u001b[34mtibble   \u001b[39m 3.2.1\n",
      "\u001b[32m✔\u001b[39m \u001b[34mlubridate\u001b[39m 1.9.2     \u001b[32m✔\u001b[39m \u001b[34mtidyr    \u001b[39m 1.3.0\n",
      "\u001b[32m✔\u001b[39m \u001b[34mpurrr    \u001b[39m 1.0.2     \n",
      "── \u001b[1mConflicts\u001b[22m ────────────────────────────────────────── tidyverse_conflicts() ──\n",
      "\u001b[31m✖\u001b[39m \u001b[34mdplyr\u001b[39m::\u001b[32mfilter()\u001b[39m masks \u001b[34mstats\u001b[39m::filter()\n",
      "\u001b[31m✖\u001b[39m \u001b[34mdplyr\u001b[39m::\u001b[32mlag()\u001b[39m    masks \u001b[34mstats\u001b[39m::lag()\n",
      "\u001b[36mℹ\u001b[39m Use the conflicted package (\u001b[3m\u001b[34m<http://conflicted.r-lib.org/>\u001b[39m\u001b[23m) to force all conflicts to become errors\n"
     ]
    }
   ],
   "source": [
    "install.packages(\"tidyverse\")\n",
    "library(tidyverse)\n",
    "premier <- read.csv(\"englander.csv\")\n",
    "premier <- rename(premier, \"Home Team\" = \"home_team_name\", \"Away Team\" = \"away_team_name\", \"Referee\" = \"referee\", \"Home Team Goals\" = \"home_team_goal_count\", \"Away Team Goals\" = \"away_team_goal_count\", \"Stadium\" = \"stadium_name\")"
   ]
  },
  {
   "cell_type": "code",
   "execution_count": null,
   "id": "86f64d59-6999-40ab-b141-84a30abf98b5",
   "metadata": {},
   "outputs": [],
   "source": []
  },
  {
   "cell_type": "code",
   "execution_count": 26,
   "id": "6d0c7545-7c10-4536-8054-385c051dff53",
   "metadata": {},
   "outputs": [
    {
     "data": {
      "text/html": [
       "<table class=\"dataframe\">\n",
       "<caption>A data.frame: 10 × 6</caption>\n",
       "<thead>\n",
       "\t<tr><th scope=col>Home Team Goals</th><th scope=col>Home Team</th><th scope=col>Away Team Goals</th><th scope=col>Away Team</th><th scope=col>Referee</th><th scope=col>Stadium</th></tr>\n",
       "\t<tr><th scope=col>&lt;int&gt;</th><th scope=col>&lt;chr&gt;</th><th scope=col>&lt;int&gt;</th><th scope=col>&lt;chr&gt;</th><th scope=col>&lt;chr&gt;</th><th scope=col>&lt;chr&gt;</th></tr>\n",
       "</thead>\n",
       "<tbody>\n",
       "\t<tr><td>1</td><td>Brighton &amp; Hove Albion</td><td>4</td><td><span style=white-space:pre-wrap>Manchester City        </span></td><td>Michael Oliver </td><td>The American Express Community Stadium (Falmer- East Sussex)</td></tr>\n",
       "\t<tr><td>1</td><td>Burnley               </td><td>3</td><td>Arsenal                </td><td>Mike Dean      </td><td>Turf Moor (Burnley)                                         </td></tr>\n",
       "\t<tr><td>5</td><td>Crystal Palace        </td><td>3</td><td>AFC Bournemouth        </td><td>Roger East     </td><td>Selhurst Park (London)                                      </td></tr>\n",
       "\t<tr><td>0</td><td>Fulham                </td><td>4</td><td>Newcastle United       </td><td>Kevin Friend   </td><td>Craven Cottage (London)                                     </td></tr>\n",
       "\t<tr><td>0</td><td>Leicester City        </td><td>0</td><td>Chelsea                </td><td>Anthony Taylor </td><td>King Power Stadium (Leicester- Leicestershire)              </td></tr>\n",
       "\t<tr><td>2</td><td>Liverpool             </td><td>0</td><td>Wolverhampton Wanderers</td><td>Martin Atkinson</td><td>Anfield (Liverpool)                                         </td></tr>\n",
       "\t<tr><td>0</td><td>Manchester United     </td><td>2</td><td>Cardiff City           </td><td>Jonathan Moss  </td><td>Old Trafford (Manchester)                                   </td></tr>\n",
       "\t<tr><td>1</td><td>Southampton           </td><td>1</td><td>Huddersfield Town      </td><td>Lee Probert    </td><td>St. Mary's Stadium (Southampton- Hampshire)                 </td></tr>\n",
       "\t<tr><td>2</td><td>Tottenham Hotspur     </td><td>2</td><td>Everton                </td><td>Andre Marriner </td><td>Tottenham Hotspur Stadium (London)                          </td></tr>\n",
       "\t<tr><td>1</td><td>Watford               </td><td>4</td><td>West Ham United        </td><td>Chris Kavanagh </td><td>Vicarage Road (Watford)                                     </td></tr>\n",
       "</tbody>\n",
       "</table>\n"
      ],
      "text/latex": [
       "A data.frame: 10 × 6\n",
       "\\begin{tabular}{llllll}\n",
       " Home Team Goals & Home Team & Away Team Goals & Away Team & Referee & Stadium\\\\\n",
       " <int> & <chr> & <int> & <chr> & <chr> & <chr>\\\\\n",
       "\\hline\n",
       "\t 1 & Brighton \\& Hove Albion & 4 & Manchester City         & Michael Oliver  & The American Express Community Stadium (Falmer- East Sussex)\\\\\n",
       "\t 1 & Burnley                & 3 & Arsenal                 & Mike Dean       & Turf Moor (Burnley)                                         \\\\\n",
       "\t 5 & Crystal Palace         & 3 & AFC Bournemouth         & Roger East      & Selhurst Park (London)                                      \\\\\n",
       "\t 0 & Fulham                 & 4 & Newcastle United        & Kevin Friend    & Craven Cottage (London)                                     \\\\\n",
       "\t 0 & Leicester City         & 0 & Chelsea                 & Anthony Taylor  & King Power Stadium (Leicester- Leicestershire)              \\\\\n",
       "\t 2 & Liverpool              & 0 & Wolverhampton Wanderers & Martin Atkinson & Anfield (Liverpool)                                         \\\\\n",
       "\t 0 & Manchester United      & 2 & Cardiff City            & Jonathan Moss   & Old Trafford (Manchester)                                   \\\\\n",
       "\t 1 & Southampton            & 1 & Huddersfield Town       & Lee Probert     & St. Mary's Stadium (Southampton- Hampshire)                 \\\\\n",
       "\t 2 & Tottenham Hotspur      & 2 & Everton                 & Andre Marriner  & Tottenham Hotspur Stadium (London)                          \\\\\n",
       "\t 1 & Watford                & 4 & West Ham United         & Chris Kavanagh  & Vicarage Road (Watford)                                     \\\\\n",
       "\\end{tabular}\n"
      ],
      "text/markdown": [
       "\n",
       "A data.frame: 10 × 6\n",
       "\n",
       "| Home Team Goals &lt;int&gt; | Home Team &lt;chr&gt; | Away Team Goals &lt;int&gt; | Away Team &lt;chr&gt; | Referee &lt;chr&gt; | Stadium &lt;chr&gt; |\n",
       "|---|---|---|---|---|---|\n",
       "| 1 | Brighton &amp; Hove Albion | 4 | Manchester City         | Michael Oliver  | The American Express Community Stadium (Falmer- East Sussex) |\n",
       "| 1 | Burnley                | 3 | Arsenal                 | Mike Dean       | Turf Moor (Burnley)                                          |\n",
       "| 5 | Crystal Palace         | 3 | AFC Bournemouth         | Roger East      | Selhurst Park (London)                                       |\n",
       "| 0 | Fulham                 | 4 | Newcastle United        | Kevin Friend    | Craven Cottage (London)                                      |\n",
       "| 0 | Leicester City         | 0 | Chelsea                 | Anthony Taylor  | King Power Stadium (Leicester- Leicestershire)               |\n",
       "| 2 | Liverpool              | 0 | Wolverhampton Wanderers | Martin Atkinson | Anfield (Liverpool)                                          |\n",
       "| 0 | Manchester United      | 2 | Cardiff City            | Jonathan Moss   | Old Trafford (Manchester)                                    |\n",
       "| 1 | Southampton            | 1 | Huddersfield Town       | Lee Probert     | St. Mary's Stadium (Southampton- Hampshire)                  |\n",
       "| 2 | Tottenham Hotspur      | 2 | Everton                 | Andre Marriner  | Tottenham Hotspur Stadium (London)                           |\n",
       "| 1 | Watford                | 4 | West Ham United         | Chris Kavanagh  | Vicarage Road (Watford)                                      |\n",
       "\n"
      ],
      "text/plain": [
       "   Home Team Goals Home Team              Away Team Goals\n",
       "1  1               Brighton & Hove Albion 4              \n",
       "2  1               Burnley                3              \n",
       "3  5               Crystal Palace         3              \n",
       "4  0               Fulham                 4              \n",
       "5  0               Leicester City         0              \n",
       "6  2               Liverpool              0              \n",
       "7  0               Manchester United      2              \n",
       "8  1               Southampton            1              \n",
       "9  2               Tottenham Hotspur      2              \n",
       "10 1               Watford                4              \n",
       "   Away Team               Referee        \n",
       "1  Manchester City         Michael Oliver \n",
       "2  Arsenal                 Mike Dean      \n",
       "3  AFC Bournemouth         Roger East     \n",
       "4  Newcastle United        Kevin Friend   \n",
       "5  Chelsea                 Anthony Taylor \n",
       "6  Wolverhampton Wanderers Martin Atkinson\n",
       "7  Cardiff City            Jonathan Moss  \n",
       "8  Huddersfield Town       Lee Probert    \n",
       "9  Everton                 Andre Marriner \n",
       "10 West Ham United         Chris Kavanagh \n",
       "   Stadium                                                     \n",
       "1  The American Express Community Stadium (Falmer- East Sussex)\n",
       "2  Turf Moor (Burnley)                                         \n",
       "3  Selhurst Park (London)                                      \n",
       "4  Craven Cottage (London)                                     \n",
       "5  King Power Stadium (Leicester- Leicestershire)              \n",
       "6  Anfield (Liverpool)                                         \n",
       "7  Old Trafford (Manchester)                                   \n",
       "8  St. Mary's Stadium (Southampton- Hampshire)                 \n",
       "9  Tottenham Hotspur Stadium (London)                          \n",
       "10 Vicarage Road (Watford)                                     "
      ]
     },
     "metadata": {},
     "output_type": "display_data"
    }
   ],
   "source": [
    "weekScores <- function(week) {\n",
    "    weeknum <- filter(premier, Game.Week == week)\n",
    "    return (select(weeknum, c( \"Home Team Goals\",\"Home Team\", \"Away Team Goals\",  \"Away Team\", \"Referee\", \"Stadium\")))\n",
    "}\n",
    "\n",
    "weekScores(38)"
   ]
  },
  {
   "cell_type": "code",
   "execution_count": 39,
   "id": "86c03c50-3469-4640-8007-ccb6692e9086",
   "metadata": {},
   "outputs": [
    {
     "data": {
      "text/html": [
       "<style>\n",
       ".dl-inline {width: auto; margin:0; padding: 0}\n",
       ".dl-inline>dt, .dl-inline>dd {float: none; width: auto; display: inline-block}\n",
       ".dl-inline>dt::after {content: \":\\0020\"; padding-right: .5ex}\n",
       ".dl-inline>dt:not(:first-of-type) {padding-left: .5ex}\n",
       "</style><dl class=dl-inline><dt>Andre Marriner</dt><dd>27</dd><dt>Martin Atkinson</dt><dd>29</dd><dt>Kevin Friend</dt><dd>27</dd><dt>Mike Dean</dt><dd>29</dd><dt>Chris Kavanagh</dt><dd>24</dd><dt>Jonathan Moss</dt><dd>27</dd><dt>Craig Pawson</dt><dd>26</dd><dt>Anthony Taylor</dt><dd>32</dd><dt>Graham Scott</dt><dd>17</dd><dt>Michael Oliver</dt><dd>30</dd><dt>Lee Mason</dt><dd>19</dd><dt>Stuart Attwell</dt><dd>20</dd><dt>Paul Tierney</dt><dd>24</dd><dt>Lee Probert</dt><dd>18</dd><dt>David Coote</dt><dd>11</dd><dt>Roger East</dt><dd>10</dd><dt>Simon Hooper</dt><dd>8</dd><dt>Andy Madley</dt><dd>2</dd></dl>\n"
      ],
      "text/latex": [
       "\\begin{description*}\n",
       "\\item[Andre Marriner] 27\n",
       "\\item[Martin Atkinson] 29\n",
       "\\item[Kevin Friend] 27\n",
       "\\item[Mike Dean] 29\n",
       "\\item[Chris Kavanagh] 24\n",
       "\\item[Jonathan Moss] 27\n",
       "\\item[Craig Pawson] 26\n",
       "\\item[Anthony Taylor] 32\n",
       "\\item[Graham Scott] 17\n",
       "\\item[Michael Oliver] 30\n",
       "\\item[Lee Mason] 19\n",
       "\\item[Stuart Attwell] 20\n",
       "\\item[Paul Tierney] 24\n",
       "\\item[Lee Probert] 18\n",
       "\\item[David Coote] 11\n",
       "\\item[Roger East] 10\n",
       "\\item[Simon Hooper] 8\n",
       "\\item[Andy Madley] 2\n",
       "\\end{description*}\n"
      ],
      "text/markdown": [
       "Andre Marriner\n",
       ":   27Martin Atkinson\n",
       ":   29Kevin Friend\n",
       ":   27Mike Dean\n",
       ":   29Chris Kavanagh\n",
       ":   24Jonathan Moss\n",
       ":   27Craig Pawson\n",
       ":   26Anthony Taylor\n",
       ":   32Graham Scott\n",
       ":   17Michael Oliver\n",
       ":   30Lee Mason\n",
       ":   19Stuart Attwell\n",
       ":   20Paul Tierney\n",
       ":   24Lee Probert\n",
       ":   18David Coote\n",
       ":   11Roger East\n",
       ":   10Simon Hooper\n",
       ":   8Andy Madley\n",
       ":   2\n",
       "\n"
      ],
      "text/plain": [
       " Andre Marriner Martin Atkinson    Kevin Friend       Mike Dean  Chris Kavanagh \n",
       "             27              29              27              29              24 \n",
       "  Jonathan Moss    Craig Pawson  Anthony Taylor    Graham Scott  Michael Oliver \n",
       "             27              26              32              17              30 \n",
       "      Lee Mason  Stuart Attwell    Paul Tierney     Lee Probert     David Coote \n",
       "             19              20              24              18              11 \n",
       "     Roger East    Simon Hooper     Andy Madley \n",
       "             10               8               2 "
      ]
     },
     "metadata": {},
     "output_type": "display_data"
    },
    {
     "data": {
      "text/plain": [
       "   Min. 1st Qu.  Median    Mean 3rd Qu.    Max. \n",
       "   2.00   17.25   24.00   21.11   27.00   32.00 "
      ]
     },
     "metadata": {},
     "output_type": "display_data"
    },
    {
     "data": {
      "text/html": [
       "'The standard deviation of the dataset is: '"
      ],
      "text/latex": [
       "'The standard deviation of the dataset is: '"
      ],
      "text/markdown": [
       "'The standard deviation of the dataset is: '"
      ],
      "text/plain": [
       "[1] \"The standard deviation of the dataset is: \""
      ]
     },
     "metadata": {},
     "output_type": "display_data"
    },
    {
     "data": {
      "text/html": [
       "8.61523198888006"
      ],
      "text/latex": [
       "8.61523198888006"
      ],
      "text/markdown": [
       "8.61523198888006"
      ],
      "text/plain": [
       "[1] 8.615232"
      ]
     },
     "metadata": {},
     "output_type": "display_data"
    }
   ],
   "source": [
    "refs <- unique(premier$Referee)\n",
    "refNums <- replicate(length(refs),0)\n",
    "n <- 1\n",
    "\n",
    "for (i in refs) {\n",
    "    for (j in premier$Referee) {\n",
    "        if (i == j) {\n",
    "            refNums[n] <- refNums[n] + 1\n",
    "        }\n",
    "    }\n",
    "    n <- n + 1\n",
    "}\n",
    "\n",
    "#print out number of games for each referee and summary statistics\n",
    "names(refNums) <- refs\n",
    "refNums\n",
    "summary(refNums)\n",
    "\"The standard deviation of the dataset is: \"\n",
    "sd(refNums)"
   ]
  },
  {
   "cell_type": "markdown",
   "id": "ada2e4bb-9624-49a8-bdf8-8005bc187d8c",
   "metadata": {},
   "source": [
    "Console Inputs:"
   ]
  },
  {
   "cell_type": "code",
   "execution_count": 13,
   "id": "29128202-de36-4c15-a6bc-84dd4edea1c2",
   "metadata": {},
   "outputs": [
    {
     "data": {
      "text/html": [
       "<style>\n",
       ".list-inline {list-style: none; margin:0; padding: 0}\n",
       ".list-inline>li {display: inline-block}\n",
       ".list-inline>li:not(:last-child)::after {content: \"\\00b7\"; padding: 0 .5ex}\n",
       "</style>\n",
       "<ol class=list-inline><li>'timestamp'</li><li>'date_GMT'</li><li>'status'</li><li>'attendance'</li><li>'Home Team'</li><li>'Away Team'</li><li>'Referee'</li><li>'Game.Week'</li><li>'Pre.Match.PPG..Home.'</li><li>'Pre.Match.PPG..Away.'</li><li>'home_ppg'</li><li>'away_ppg'</li><li>'Home Team Goals'</li><li>'Away Team Goals'</li><li>'total_goal_count'</li><li>'total_goals_at_half_time'</li><li>'home_team_goal_count_half_time'</li><li>'away_team_goal_count_half_time'</li><li>'home_team_goal_timings'</li><li>'away_team_goal_timings'</li><li>'home_team_corner_count'</li><li>'away_team_corner_count'</li><li>'home_team_yellow_cards'</li><li>'home_team_red_cards'</li><li>'away_team_yellow_cards'</li><li>'away_team_red_cards'</li><li>'home_team_first_half_cards'</li><li>'home_team_second_half_cards'</li><li>'away_team_first_half_cards'</li><li>'away_team_second_half_cards'</li><li>'home_team_shots'</li><li>'away_team_shots'</li><li>'home_team_shots_on_target'</li><li>'away_team_shots_on_target'</li><li>'home_team_shots_off_target'</li><li>'away_team_shots_off_target'</li><li>'home_team_fouls'</li><li>'away_team_fouls'</li><li>'home_team_possession'</li><li>'away_team_possession'</li><li>'Home.Team.Pre.Match.xG'</li><li>'Away.Team.Pre.Match.xG'</li><li>'team_a_xg'</li><li>'team_b_xg'</li><li>'average_goals_per_match_pre_match'</li><li>'btts_percentage_pre_match'</li><li>'over_15_percentage_pre_match'</li><li>'over_25_percentage_pre_match'</li><li>'over_35_percentage_pre_match'</li><li>'over_45_percentage_pre_match'</li><li>'over_15_HT_FHG_percentage_pre_match'</li><li>'over_05_HT_FHG_percentage_pre_match'</li><li>'over_15_2HG_percentage_pre_match'</li><li>'over_05_2HG_percentage_pre_match'</li><li>'average_corners_per_match_pre_match'</li><li>'average_cards_per_match_pre_match'</li><li>'odds_ft_home_team_win'</li><li>'odds_ft_draw'</li><li>'odds_ft_away_team_win'</li><li>'odds_ft_over15'</li><li>'odds_ft_over25'</li><li>'odds_ft_over35'</li><li>'odds_ft_over45'</li><li>'odds_btts_yes'</li><li>'odds_btts_no'</li><li>'Stadium'</li></ol>\n"
      ],
      "text/latex": [
       "\\begin{enumerate*}\n",
       "\\item 'timestamp'\n",
       "\\item 'date\\_GMT'\n",
       "\\item 'status'\n",
       "\\item 'attendance'\n",
       "\\item 'Home Team'\n",
       "\\item 'Away Team'\n",
       "\\item 'Referee'\n",
       "\\item 'Game.Week'\n",
       "\\item 'Pre.Match.PPG..Home.'\n",
       "\\item 'Pre.Match.PPG..Away.'\n",
       "\\item 'home\\_ppg'\n",
       "\\item 'away\\_ppg'\n",
       "\\item 'Home Team Goals'\n",
       "\\item 'Away Team Goals'\n",
       "\\item 'total\\_goal\\_count'\n",
       "\\item 'total\\_goals\\_at\\_half\\_time'\n",
       "\\item 'home\\_team\\_goal\\_count\\_half\\_time'\n",
       "\\item 'away\\_team\\_goal\\_count\\_half\\_time'\n",
       "\\item 'home\\_team\\_goal\\_timings'\n",
       "\\item 'away\\_team\\_goal\\_timings'\n",
       "\\item 'home\\_team\\_corner\\_count'\n",
       "\\item 'away\\_team\\_corner\\_count'\n",
       "\\item 'home\\_team\\_yellow\\_cards'\n",
       "\\item 'home\\_team\\_red\\_cards'\n",
       "\\item 'away\\_team\\_yellow\\_cards'\n",
       "\\item 'away\\_team\\_red\\_cards'\n",
       "\\item 'home\\_team\\_first\\_half\\_cards'\n",
       "\\item 'home\\_team\\_second\\_half\\_cards'\n",
       "\\item 'away\\_team\\_first\\_half\\_cards'\n",
       "\\item 'away\\_team\\_second\\_half\\_cards'\n",
       "\\item 'home\\_team\\_shots'\n",
       "\\item 'away\\_team\\_shots'\n",
       "\\item 'home\\_team\\_shots\\_on\\_target'\n",
       "\\item 'away\\_team\\_shots\\_on\\_target'\n",
       "\\item 'home\\_team\\_shots\\_off\\_target'\n",
       "\\item 'away\\_team\\_shots\\_off\\_target'\n",
       "\\item 'home\\_team\\_fouls'\n",
       "\\item 'away\\_team\\_fouls'\n",
       "\\item 'home\\_team\\_possession'\n",
       "\\item 'away\\_team\\_possession'\n",
       "\\item 'Home.Team.Pre.Match.xG'\n",
       "\\item 'Away.Team.Pre.Match.xG'\n",
       "\\item 'team\\_a\\_xg'\n",
       "\\item 'team\\_b\\_xg'\n",
       "\\item 'average\\_goals\\_per\\_match\\_pre\\_match'\n",
       "\\item 'btts\\_percentage\\_pre\\_match'\n",
       "\\item 'over\\_15\\_percentage\\_pre\\_match'\n",
       "\\item 'over\\_25\\_percentage\\_pre\\_match'\n",
       "\\item 'over\\_35\\_percentage\\_pre\\_match'\n",
       "\\item 'over\\_45\\_percentage\\_pre\\_match'\n",
       "\\item 'over\\_15\\_HT\\_FHG\\_percentage\\_pre\\_match'\n",
       "\\item 'over\\_05\\_HT\\_FHG\\_percentage\\_pre\\_match'\n",
       "\\item 'over\\_15\\_2HG\\_percentage\\_pre\\_match'\n",
       "\\item 'over\\_05\\_2HG\\_percentage\\_pre\\_match'\n",
       "\\item 'average\\_corners\\_per\\_match\\_pre\\_match'\n",
       "\\item 'average\\_cards\\_per\\_match\\_pre\\_match'\n",
       "\\item 'odds\\_ft\\_home\\_team\\_win'\n",
       "\\item 'odds\\_ft\\_draw'\n",
       "\\item 'odds\\_ft\\_away\\_team\\_win'\n",
       "\\item 'odds\\_ft\\_over15'\n",
       "\\item 'odds\\_ft\\_over25'\n",
       "\\item 'odds\\_ft\\_over35'\n",
       "\\item 'odds\\_ft\\_over45'\n",
       "\\item 'odds\\_btts\\_yes'\n",
       "\\item 'odds\\_btts\\_no'\n",
       "\\item 'Stadium'\n",
       "\\end{enumerate*}\n"
      ],
      "text/markdown": [
       "1. 'timestamp'\n",
       "2. 'date_GMT'\n",
       "3. 'status'\n",
       "4. 'attendance'\n",
       "5. 'Home Team'\n",
       "6. 'Away Team'\n",
       "7. 'Referee'\n",
       "8. 'Game.Week'\n",
       "9. 'Pre.Match.PPG..Home.'\n",
       "10. 'Pre.Match.PPG..Away.'\n",
       "11. 'home_ppg'\n",
       "12. 'away_ppg'\n",
       "13. 'Home Team Goals'\n",
       "14. 'Away Team Goals'\n",
       "15. 'total_goal_count'\n",
       "16. 'total_goals_at_half_time'\n",
       "17. 'home_team_goal_count_half_time'\n",
       "18. 'away_team_goal_count_half_time'\n",
       "19. 'home_team_goal_timings'\n",
       "20. 'away_team_goal_timings'\n",
       "21. 'home_team_corner_count'\n",
       "22. 'away_team_corner_count'\n",
       "23. 'home_team_yellow_cards'\n",
       "24. 'home_team_red_cards'\n",
       "25. 'away_team_yellow_cards'\n",
       "26. 'away_team_red_cards'\n",
       "27. 'home_team_first_half_cards'\n",
       "28. 'home_team_second_half_cards'\n",
       "29. 'away_team_first_half_cards'\n",
       "30. 'away_team_second_half_cards'\n",
       "31. 'home_team_shots'\n",
       "32. 'away_team_shots'\n",
       "33. 'home_team_shots_on_target'\n",
       "34. 'away_team_shots_on_target'\n",
       "35. 'home_team_shots_off_target'\n",
       "36. 'away_team_shots_off_target'\n",
       "37. 'home_team_fouls'\n",
       "38. 'away_team_fouls'\n",
       "39. 'home_team_possession'\n",
       "40. 'away_team_possession'\n",
       "41. 'Home.Team.Pre.Match.xG'\n",
       "42. 'Away.Team.Pre.Match.xG'\n",
       "43. 'team_a_xg'\n",
       "44. 'team_b_xg'\n",
       "45. 'average_goals_per_match_pre_match'\n",
       "46. 'btts_percentage_pre_match'\n",
       "47. 'over_15_percentage_pre_match'\n",
       "48. 'over_25_percentage_pre_match'\n",
       "49. 'over_35_percentage_pre_match'\n",
       "50. 'over_45_percentage_pre_match'\n",
       "51. 'over_15_HT_FHG_percentage_pre_match'\n",
       "52. 'over_05_HT_FHG_percentage_pre_match'\n",
       "53. 'over_15_2HG_percentage_pre_match'\n",
       "54. 'over_05_2HG_percentage_pre_match'\n",
       "55. 'average_corners_per_match_pre_match'\n",
       "56. 'average_cards_per_match_pre_match'\n",
       "57. 'odds_ft_home_team_win'\n",
       "58. 'odds_ft_draw'\n",
       "59. 'odds_ft_away_team_win'\n",
       "60. 'odds_ft_over15'\n",
       "61. 'odds_ft_over25'\n",
       "62. 'odds_ft_over35'\n",
       "63. 'odds_ft_over45'\n",
       "64. 'odds_btts_yes'\n",
       "65. 'odds_btts_no'\n",
       "66. 'Stadium'\n",
       "\n",
       "\n"
      ],
      "text/plain": [
       " [1] \"timestamp\"                           \"date_GMT\"                           \n",
       " [3] \"status\"                              \"attendance\"                         \n",
       " [5] \"Home Team\"                           \"Away Team\"                          \n",
       " [7] \"Referee\"                             \"Game.Week\"                          \n",
       " [9] \"Pre.Match.PPG..Home.\"                \"Pre.Match.PPG..Away.\"               \n",
       "[11] \"home_ppg\"                            \"away_ppg\"                           \n",
       "[13] \"Home Team Goals\"                     \"Away Team Goals\"                    \n",
       "[15] \"total_goal_count\"                    \"total_goals_at_half_time\"           \n",
       "[17] \"home_team_goal_count_half_time\"      \"away_team_goal_count_half_time\"     \n",
       "[19] \"home_team_goal_timings\"              \"away_team_goal_timings\"             \n",
       "[21] \"home_team_corner_count\"              \"away_team_corner_count\"             \n",
       "[23] \"home_team_yellow_cards\"              \"home_team_red_cards\"                \n",
       "[25] \"away_team_yellow_cards\"              \"away_team_red_cards\"                \n",
       "[27] \"home_team_first_half_cards\"          \"home_team_second_half_cards\"        \n",
       "[29] \"away_team_first_half_cards\"          \"away_team_second_half_cards\"        \n",
       "[31] \"home_team_shots\"                     \"away_team_shots\"                    \n",
       "[33] \"home_team_shots_on_target\"           \"away_team_shots_on_target\"          \n",
       "[35] \"home_team_shots_off_target\"          \"away_team_shots_off_target\"         \n",
       "[37] \"home_team_fouls\"                     \"away_team_fouls\"                    \n",
       "[39] \"home_team_possession\"                \"away_team_possession\"               \n",
       "[41] \"Home.Team.Pre.Match.xG\"              \"Away.Team.Pre.Match.xG\"             \n",
       "[43] \"team_a_xg\"                           \"team_b_xg\"                          \n",
       "[45] \"average_goals_per_match_pre_match\"   \"btts_percentage_pre_match\"          \n",
       "[47] \"over_15_percentage_pre_match\"        \"over_25_percentage_pre_match\"       \n",
       "[49] \"over_35_percentage_pre_match\"        \"over_45_percentage_pre_match\"       \n",
       "[51] \"over_15_HT_FHG_percentage_pre_match\" \"over_05_HT_FHG_percentage_pre_match\"\n",
       "[53] \"over_15_2HG_percentage_pre_match\"    \"over_05_2HG_percentage_pre_match\"   \n",
       "[55] \"average_corners_per_match_pre_match\" \"average_cards_per_match_pre_match\"  \n",
       "[57] \"odds_ft_home_team_win\"               \"odds_ft_draw\"                       \n",
       "[59] \"odds_ft_away_team_win\"               \"odds_ft_over15\"                     \n",
       "[61] \"odds_ft_over25\"                      \"odds_ft_over35\"                     \n",
       "[63] \"odds_ft_over45\"                      \"odds_btts_yes\"                      \n",
       "[65] \"odds_btts_no\"                        \"Stadium\"                            "
      ]
     },
     "metadata": {},
     "output_type": "display_data"
    }
   ],
   "source": [
    "colnames(premier)"
   ]
  }
 ],
 "metadata": {
  "kernelspec": {
   "display_name": "R",
   "language": "R",
   "name": "ir"
  },
  "language_info": {
   "codemirror_mode": "r",
   "file_extension": ".r",
   "mimetype": "text/x-r-source",
   "name": "R",
   "pygments_lexer": "r",
   "version": "4.3.1"
  }
 },
 "nbformat": 4,
 "nbformat_minor": 5
}
